{
  "nbformat": 4,
  "nbformat_minor": 0,
  "metadata": {
    "colab": {
      "provenance": [],
      "authorship_tag": "ABX9TyMuUcASc5CAm0rtkIIjPgdD",
      "include_colab_link": true
    },
    "kernelspec": {
      "name": "python3",
      "display_name": "Python 3"
    },
    "language_info": {
      "name": "python"
    }
  },
  "cells": [
    {
      "cell_type": "markdown",
      "metadata": {
        "id": "view-in-github",
        "colab_type": "text"
      },
      "source": [
        "<a href=\"https://colab.research.google.com/github/ZachAtom/ZachAtom/blob/main/XOR.ipynb\" target=\"_parent\"><img src=\"https://colab.research.google.com/assets/colab-badge.svg\" alt=\"Open In Colab\"/></a>"
      ]
    },
    {
      "cell_type": "code",
      "execution_count": 1,
      "metadata": {
        "colab": {
          "base_uri": "https://localhost:8080/"
        },
        "id": "yv68PRlOyzkt",
        "outputId": "9d00a80c-a16e-458a-d0b3-0650edf73081"
      },
      "outputs": [
        {
          "output_type": "stream",
          "name": "stdout",
          "text": [
            "Model: \"sequential\"\n",
            "_________________________________________________________________\n",
            " Layer (type)                Output Shape              Param #   \n",
            "=================================================================\n",
            " dense (Dense)               (None, 3)                 12        \n",
            "                                                                 \n",
            " dense_1 (Dense)             (None, 1)                 4         \n",
            "                                                                 \n",
            "=================================================================\n",
            "Total params: 16 (64.00 Byte)\n",
            "Trainable params: 16 (64.00 Byte)\n",
            "Non-trainable params: 0 (0.00 Byte)\n",
            "_________________________________________________________________\n",
            "None\n",
            "1/1 [==============================] - 0s 81ms/step\n",
            "[[0.07244208]\n",
            " [0.9200105 ]\n",
            " [0.928171  ]\n",
            " [0.06640455]]\n",
            "1/1 [==============================] - 0s 21ms/step\n",
            "\n",
            " Output: \n",
            "\n",
            "[[0]\n",
            " [1]\n",
            " [1]\n",
            " [0]]\n"
          ]
        }
      ],
      "source": [
        "import numpy as np\n",
        "from keras.models import Sequential\n",
        "model=Sequential()\n",
        "from keras.layers import Dense\n",
        "model.add(Dense(units=3,activation='sigmoid',input_dim=3))\n",
        "model.add(Dense(units=1,activation='sigmoid'))\n",
        "print(model.summary())\n",
        "from keras import optimizers\n",
        "sgd = optimizers.SGD(learning_rate=1)\n",
        "model.compile(loss='mean_squared_error',optimizer=sgd)\n",
        "np.random.seed(9)\n",
        "X=np.array([[0,0,1],[0,1,1],[1,0,1],[1,1,1]])\n",
        "y=np.array([[0],[1],[1],[0]])\n",
        "model.fit(X,y,epochs=1500,verbose=False)\n",
        "print(model.predict(X))\n",
        "output=np.rint(model.predict(X))\n",
        "output=output.astype(int)\n",
        "print(\"\\n Output: \\n\")\n",
        "print(output)"
      ]
    }
  ]
}